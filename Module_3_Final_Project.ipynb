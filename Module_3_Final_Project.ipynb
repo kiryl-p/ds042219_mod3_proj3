{
 "cells": [
  {
   "cell_type": "markdown",
   "metadata": {},
   "source": [
    "# MODULE 3 - FINAL PROJECT"
   ]
  },
  {
   "cell_type": "markdown",
   "metadata": {},
   "source": [
    "For this project, I'll be working with the Pitchfork Reviews dataset. Pitchfork is a music-centric online magazine. It was started in 1995 and grew out of independent music reviewing into a general publication format, but is still famed for its variety music reviews. Our data set includes reviews from 1999 to 2017, published by contributors and Pitchfork editor/writers on diverse range of albums from jazz to metal, rap to experimental.\n",
    "\n",
    "I will start with examining my data points of score(review score) and check if it is normally distributed. The easiest way is simply to plot data distribution and visually check if the data follows a normal curve or not.\n"
   ]
  },
  {
   "cell_type": "code",
   "execution_count": 25,
   "metadata": {},
   "outputs": [],
   "source": [
    "import pandas as pd\n",
    "import matplotlib.pyplot as plt\n",
    "%matplotlib inline\n",
    "import seaborn as sns\n",
    "import numpy as np\n",
    "import sqlite3 \n",
    "plt.style.use('seaborn')\n",
    "import scipy.stats as stats\n",
    "import math\n",
    "import statsmodels.api as sm\n",
    "from statsmodels.formula.api import ols\n",
    "np.random.seed(0)"
   ]
  },
  {
   "cell_type": "code",
   "execution_count": null,
   "metadata": {},
   "outputs": [],
   "source": [
    "# Connect database and create cursor here\n",
    "conn = sqlite3.connect('database.sqlite')\n",
    "c = conn.cursor()"
   ]
  },
  {
   "cell_type": "code",
   "execution_count": null,
   "metadata": {
    "scrolled": false
   },
   "outputs": [],
   "source": [
    "c.execute(\"\"\"SELECT score FROM reviews JOIN genres USING (reviewid);\"\"\")\n",
    "data = pd.DataFrame(c.fetchall())\n",
    "data.columns = [x[0] for x in c.description]\n",
    "data.describe()"
   ]
  },
  {
   "cell_type": "code",
   "execution_count": null,
   "metadata": {},
   "outputs": [],
   "source": [
    "plt.figure(figsize = (8,5))\n",
    "plt.hist(data.score, bins = 30, alpha= 0.5);"
   ]
  },
  {
   "cell_type": "markdown",
   "metadata": {},
   "source": [
    "In the cell below, I will use seaborn distplot method to visualize a histogram of the distribution overlaid with the a probability density curve and apply scipy stats's _normaltest_ in order to see statistics and p-value if the results represent a normal distribution."
   ]
  },
  {
   "cell_type": "code",
   "execution_count": null,
   "metadata": {},
   "outputs": [],
   "source": [
    "plt.figure(figsize = (8,5))\n",
    "sns.distplot(data.score, bins = 30);\n",
    "print(stats.normaltest(data.score))"
   ]
  },
  {
   "cell_type": "markdown",
   "metadata": {},
   "source": [
    "## CENTRAL LIMIT THEOREM"
   ]
  },
  {
   "cell_type": "markdown",
   "metadata": {},
   "source": [
    "As seen in the images above and can be concluded from the normal test, our score data is not normally distributed. Since our dataset is non-normal, that means we'll need to use the **Central Limit Theorem**. Central Limit Theorem states that under many conditions, independent random variables summed together will converge to a normal distribution as the number of variables increases. \n",
    "\n",
    "In the cell below, I will create a function that takes in dataset, size of distribution to create, and size of each sample. This function will return a sample distribution of sample means of the given size."
   ]
  },
  {
   "cell_type": "code",
   "execution_count": 21,
   "metadata": {},
   "outputs": [],
   "source": [
    "def get_sample(data, n):\n",
    "    sample = []\n",
    "    while len(sample) != n:\n",
    "        x = np.random.choice(data)\n",
    "        sample.append(x)\n",
    "    return sample\n",
    "\n",
    "def get_sample_mean(sample):\n",
    "    return sum(sample)/len(sample)\n",
    "\n",
    "def create_sample_distribution(data, dist_size=100, n=30):\n",
    "    sample_dist = []\n",
    "    while len(sample_dist) != dist_size:\n",
    "        sample = get_sample(data, n)\n",
    "        sample_mean = get_sample_mean(sample)\n",
    "        sample_dist.append(sample_mean)\n",
    "    \n",
    "    return sample_dist"
   ]
  },
  {
   "cell_type": "code",
   "execution_count": 22,
   "metadata": {},
   "outputs": [
    {
     "data": {
      "text/plain": [
       "<matplotlib.axes._subplots.AxesSubplot at 0x1c25f6ba90>"
      ]
     },
     "execution_count": 22,
     "metadata": {},
     "output_type": "execute_result"
    },
    {
     "data": {
      "image/png": "[encoded data removed]",
      "text/plain": [
       "<Figure size 576x396 with 1 Axes>"
      ]
     },
     "metadata": {},
     "output_type": "display_data"
    }
   ],
   "source": [
    "pop_score = np.array(data.score)\n",
    "population = create_sample_distribution(pop_score, dist_size=300, n=20)\n",
    "\n",
    "sns.distplot(population)"
   ]
  },
  {
   "cell_type": "code",
   "execution_count": 23,
   "metadata": {},
   "outputs": [
    {
     "name": "stdout",
     "output_type": "stream",
     "text": [
      "Population Mean: 6.976649999999999\n",
      "Population Standard Deviation 0.29428080835600995\n"
     ]
    }
   ],
   "source": [
    "pop_mean = np.mean(population)\n",
    "pop_std = np.std(population)\n",
    "print(\"Population Mean:\", pop_mean)\n",
    "print(\"Population Standard Deviation\", pop_std)"
   ]
  },
  {
   "cell_type": "markdown",
   "metadata": {},
   "source": [
    "## TWO SAMPLE T-TEST"
   ]
  },
  {
   "cell_type": "markdown",
   "metadata": {},
   "source": [
    "**Question: _Is there a statistical difference between the ratings of jazz music and metal music genres?_**\n",
    "\n",
    "I will use jazz music and metal music data to compare their mean sample values. I will perform a two-sample test is a test on the data since I have two random samples, each independently obtained from a different given population.\n",
    "\n",
    "Given two groups (jazz music and metal music), this test is only applicable when:\n",
    "\n",
    " - The two sample sizes (that is, the number n of participants of each group) are equal.\n",
    " - It can be assumed that the two distributions have the same variance.\n",
    "\n",
    "### Hypothesis:\n",
    "\n",
    "**Null Hypothesis(Ho):** There is no significant difference between mean values of jazz and metal data set.\n",
    "\n",
    "**Alternative Hypothesis(Ha):** There is a significant difference between jazz and metal mean values.\n"
   ]
  },
  {
   "cell_type": "markdown",
   "metadata": {},
   "source": [
    "### JAZZ DATA##"
   ]
  },
  {
   "cell_type": "code",
   "execution_count": 24,
   "metadata": {
    "scrolled": true
   },
   "outputs": [
    {
     "data": {
      "text/html": [
       "<div>\n",
       "<style scoped>\n",
       "    .dataframe tbody tr th:only-of-type {\n",
       "        vertical-align: middle;\n",
       "    }\n",
       "\n",
       "    .dataframe tbody tr th {\n",
       "        vertical-align: top;\n",
       "    }\n",
       "\n",
       "    .dataframe thead th {\n",
       "        text-align: right;\n",
       "    }\n",
       "</style>\n",
       "<table border=\"1\" class=\"dataframe\">\n",
       "  <thead>\n",
       "    <tr style=\"text-align: right;\">\n",
       "      <th></th>\n",
       "      <th>score</th>\n",
       "    </tr>\n",
       "  </thead>\n",
       "  <tbody>\n",
       "    <tr>\n",
       "      <th>count</th>\n",
       "      <td>435.000000</td>\n",
       "    </tr>\n",
       "    <tr>\n",
       "      <th>mean</th>\n",
       "      <td>7.303908</td>\n",
       "    </tr>\n",
       "    <tr>\n",
       "      <th>std</th>\n",
       "      <td>1.251104</td>\n",
       "    </tr>\n",
       "    <tr>\n",
       "      <th>min</th>\n",
       "      <td>1.000000</td>\n",
       "    </tr>\n",
       "    <tr>\n",
       "      <th>25%</th>\n",
       "      <td>6.900000</td>\n",
       "    </tr>\n",
       "    <tr>\n",
       "      <th>50%</th>\n",
       "      <td>7.600000</td>\n",
       "    </tr>\n",
       "    <tr>\n",
       "      <th>75%</th>\n",
       "      <td>8.000000</td>\n",
       "    </tr>\n",
       "    <tr>\n",
       "      <th>max</th>\n",
       "      <td>10.000000</td>\n",
       "    </tr>\n",
       "  </tbody>\n",
       "</table>\n",
       "</div>"
      ],
      "text/plain": [
       "            score\n",
       "count  435.000000\n",
       "mean     7.303908\n",
       "std      1.251104\n",
       "min      1.000000\n",
       "25%      6.900000\n",
       "50%      7.600000\n",
       "75%      8.000000\n",
       "max     10.000000"
      ]
     },
     "execution_count": 24,
     "metadata": {},
     "output_type": "execute_result"
    }
   ],
   "source": [
    "c.execute(\"\"\"SELECT score FROM reviews JOIN genres using (reviewid)  WHERE genre ==  'jazz' ;\"\"\")\n",
    "jazz_data = pd.DataFrame(c.fetchall())\n",
    "jazz_data.columns = [x[0] for x in c.description]\n",
    "jazz_data.describe()"
   ]
  },
  {
   "cell_type": "code",
   "execution_count": 25,
   "metadata": {},
   "outputs": [
    {
     "name": "stdout",
     "output_type": "stream",
     "text": [
      "Lenght of Jazz Data: 435\n"
     ]
    },
    {
     "data": {
      "image/png": "[encoded data removed]",
      "text/plain": [
       "<Figure size 576x360 with 1 Axes>"
      ]
     },
     "metadata": {},
     "output_type": "display_data"
    }
   ],
   "source": [
    "plt.figure(figsize = (8,5))\n",
    "plt.hist(jazz_data.score, bins = 20, alpha = 0.5);\n",
    "print('Lenght of Jazz Data:', len(jazz_data))"
   ]
  },
  {
   "cell_type": "markdown",
   "metadata": {},
   "source": [
    "#### Sampling:"
   ]
  },
  {
   "cell_type": "code",
   "execution_count": 26,
   "metadata": {
    "scrolled": false
   },
   "outputs": [
    {
     "name": "stdout",
     "output_type": "stream",
     "text": [
      "Jazz Mean: 7.2896333333333345\n",
      "Jazz Standard Deviation 0.2668392753866809\n"
     ]
    }
   ],
   "source": [
    "jazz_population = create_sample_distribution(np.array(jazz_data.score), dist_size=300, n=20)\n",
    "jazz_mean = np.mean(jazz_population)\n",
    "jazz_std = np.std(jazz_population)\n",
    "print(\"Jazz Mean:\", jazz_mean)\n",
    "print(\"Jazz Standard Deviation\", jazz_std)"
   ]
  },
  {
   "cell_type": "markdown",
   "metadata": {},
   "source": [
    "#### Confidence Intervals:"
   ]
  },
  {
   "cell_type": "code",
   "execution_count": 27,
   "metadata": {},
   "outputs": [
    {
     "data": {
      "text/plain": [
       "(6.764512406427983, 7.814754260238686)"
      ]
     },
     "execution_count": 27,
     "metadata": {},
     "output_type": "execute_result"
    }
   ],
   "source": [
    "stats.t.interval(alpha = 0.95,                              # Confidence level\n",
    "                 df= len(jazz_population)-1,                # Degrees of freedom\n",
    "                 loc = jazz_mean,                           # Sample mean\n",
    "                 scale = jazz_std)                          # Standard deviation estimate"
   ]
  },
  {
   "cell_type": "markdown",
   "metadata": {},
   "source": [
    "### METAL DATA"
   ]
  },
  {
   "cell_type": "code",
   "execution_count": 28,
   "metadata": {
    "scrolled": true
   },
   "outputs": [
    {
     "data": {
      "text/html": [
       "<div>\n",
       "<style scoped>\n",
       "    .dataframe tbody tr th:only-of-type {\n",
       "        vertical-align: middle;\n",
       "    }\n",
       "\n",
       "    .dataframe tbody tr th {\n",
       "        vertical-align: top;\n",
       "    }\n",
       "\n",
       "    .dataframe thead th {\n",
       "        text-align: right;\n",
       "    }\n",
       "</style>\n",
       "<table border=\"1\" class=\"dataframe\">\n",
       "  <thead>\n",
       "    <tr style=\"text-align: right;\">\n",
       "      <th></th>\n",
       "      <th>score</th>\n",
       "    </tr>\n",
       "  </thead>\n",
       "  <tbody>\n",
       "    <tr>\n",
       "      <th>count</th>\n",
       "      <td>862.000000</td>\n",
       "    </tr>\n",
       "    <tr>\n",
       "      <th>mean</th>\n",
       "      <td>6.950000</td>\n",
       "    </tr>\n",
       "    <tr>\n",
       "      <th>std</th>\n",
       "      <td>1.387799</td>\n",
       "    </tr>\n",
       "    <tr>\n",
       "      <th>min</th>\n",
       "      <td>0.200000</td>\n",
       "    </tr>\n",
       "    <tr>\n",
       "      <th>25%</th>\n",
       "      <td>6.500000</td>\n",
       "    </tr>\n",
       "    <tr>\n",
       "      <th>50%</th>\n",
       "      <td>7.300000</td>\n",
       "    </tr>\n",
       "    <tr>\n",
       "      <th>75%</th>\n",
       "      <td>7.900000</td>\n",
       "    </tr>\n",
       "    <tr>\n",
       "      <th>max</th>\n",
       "      <td>9.700000</td>\n",
       "    </tr>\n",
       "  </tbody>\n",
       "</table>\n",
       "</div>"
      ],
      "text/plain": [
       "            score\n",
       "count  862.000000\n",
       "mean     6.950000\n",
       "std      1.387799\n",
       "min      0.200000\n",
       "25%      6.500000\n",
       "50%      7.300000\n",
       "75%      7.900000\n",
       "max      9.700000"
      ]
     },
     "execution_count": 28,
     "metadata": {},
     "output_type": "execute_result"
    }
   ],
   "source": [
    "c.execute(\"\"\"SELECT score FROM reviews JOIN genres using (reviewid)  WHERE genre ==  'metal' ;\"\"\")\n",
    "metal_data = pd.DataFrame(c.fetchall())\n",
    "metal_data.columns = [x[0] for x in c.description]\n",
    "metal_data.describe()"
   ]
  },
  {
   "cell_type": "code",
   "execution_count": 30,
   "metadata": {},
   "outputs": [
    {
     "name": "stdout",
     "output_type": "stream",
     "text": [
      "Lenght of Metal Data: 862\n"
     ]
    },
    {
     "data": {
      "image/png": "[encoded data removed]",
      "text/plain": [
       "<Figure size 576x360 with 1 Axes>"
      ]
     },
     "metadata": {},
     "output_type": "display_data"
    }
   ],
   "source": [
    "plt.figure(figsize = (8,5))\n",
    "plt.hist(jazz_data.score, bins = 20, alpha = 0.5);\n",
    "print('Lenght of Metal Data:', len(metal_data))"
   ]
  },
  {
   "cell_type": "markdown",
   "metadata": {},
   "source": [
    "#### Sampling:"
   ]
  },
  {
   "cell_type": "code",
   "execution_count": 31,
   "metadata": {
    "scrolled": false
   },
   "outputs": [
    {
     "name": "stdout",
     "output_type": "stream",
     "text": [
      "Metal Mean: 6.960600000000001\n",
      "Metal Standard Deviation 0.3097708400307126\n"
     ]
    }
   ],
   "source": [
    "metal_population = create_sample_distribution(np.array(metal_data.score), dist_size=300, n=20)\n",
    "metal_mean = np.mean(metal_population)\n",
    "metal_std = np.std(metal_population)\n",
    "print(\"Metal Mean:\", metal_mean)\n",
    "print(\"Metal Standard Deviation\", metal_std)"
   ]
  },
  {
   "cell_type": "markdown",
   "metadata": {},
   "source": [
    "#### Confidence Intervals:"
   ]
  },
  {
   "cell_type": "code",
   "execution_count": 32,
   "metadata": {
    "scrolled": true
   },
   "outputs": [
    {
     "data": {
      "text/plain": [
       "(6.350992773292262, 7.5702072267077405)"
      ]
     },
     "execution_count": 32,
     "metadata": {},
     "output_type": "execute_result"
    }
   ],
   "source": [
    "stats.t.interval(alpha = 0.95,                              # Confidence level\n",
    "                 df= len(metal_population)-1,               # Degrees of freedom\n",
    "                 loc = metal_mean,                          # Sample mean\n",
    "                 scale = metal_std)                         # Standard deviation estimate"
   ]
  },
  {
   "cell_type": "markdown",
   "metadata": {},
   "source": [
    "### CONDUCTING THE TEST"
   ]
  },
  {
   "cell_type": "code",
   "execution_count": 33,
   "metadata": {
    "scrolled": true
   },
   "outputs": [
    {
     "name": "stdout",
     "output_type": "stream",
     "text": [
      "Difference Between Mean Values: -0.3290333333333333\n",
      "The t-statistic for sample is -13.92 and the p-value is 0.0\n"
     ]
    }
   ],
   "source": [
    "results = stats.ttest_ind(metal_population, jazz_population)\n",
    "\n",
    "print('Difference Between Mean Values:', metal_mean - jazz_mean)\n",
    "print (\"The t-statistic for sample is\", np.round(results[0], 2), \"and the p-value is\", np.round((results[1]), 4))                        "
   ]
  },
  {
   "cell_type": "markdown",
   "metadata": {},
   "source": [
    "\n",
    "\n",
    "\n",
    "Let's check if there is sufficient evidence to conclude that, at the alpha = 0.05 level of significance, there is a significant difference in the average score ratings of jazz and metal music.\n",
    "\n",
    "\n"
   ]
  },
  {
   "cell_type": "code",
   "execution_count": 34,
   "metadata": {
    "scrolled": false
   },
   "outputs": [
    {
     "name": "stdout",
     "output_type": "stream",
     "text": [
      "T-Critical Value: -1.729\n"
     ]
    }
   ],
   "source": [
    "t_crit = np.round(stats.t.ppf(1 - 0.95, df=19),3)\n",
    "print('T-Critical Value:', t_crit)"
   ]
  },
  {
   "cell_type": "code",
   "execution_count": 35,
   "metadata": {},
   "outputs": [
    {
     "data": {
      "image/png": "[encoded data removed]",
      "text/plain": [
       "<Figure size 576x360 with 1 Axes>"
      ]
     },
     "metadata": {},
     "output_type": "display_data"
    }
   ],
   "source": [
    "# generate points on the x axis between -5 and 5:\n",
    "xs = np.linspace(-5, 5, 100)\n",
    "\n",
    "# xs = pop_score\n",
    "\n",
    "# use stats.t.pdf to get values on the probability density function for the t-distribution\n",
    "# the second argument is the degrees of freedom\n",
    "ys = stats.t.pdf(xs, 100, 0, 1)\n",
    "\n",
    "# initialize a matplotlib \"figure\"\n",
    "fig = plt.figure(figsize=(8,5))\n",
    "\n",
    "# get the current \"axis\" out of the figure\n",
    "ax = fig.gca()\n",
    "\n",
    "# plot the lines using matplotlib's plot function:\n",
    "ax.plot(xs, ys, linewidth=3, color='darkblue')\n",
    "\n",
    "# plot a vertical line for our measured difference in rates t-statistic\n",
    "ax.axvline(t_crit, color='red', linestyle='--', lw=3,label='t-critical:'+ str(t_crit))\n",
    "ax.axvline(results[0], color='green', linestyle='--', lw=3,label='t-statistic:'+ str(round(results[0],2)))\n",
    "ax.legend()\n",
    "plt.show()"
   ]
  },
  {
   "cell_type": "markdown",
   "metadata": {},
   "source": [
    "If t_statistical is greater than t_critical and p-value is smaller than the alpha = 0.05 level of significance, we reject our Alternative Hypothesis and fail to reject our Null Hypothesis.\n",
    "\n",
    "\n",
    "\n",
    "\n",
    "_**Ho:**_ _There is no significant difference between mean values of jazz and metal data set._\n",
    "\n",
    "_**Ha:**_ _There is a significant difference between jazz and metal mean values._"
   ]
  },
  {
   "cell_type": "code",
   "execution_count": 37,
   "metadata": {},
   "outputs": [
    {
     "name": "stdout",
     "output_type": "stream",
     "text": [
      "Null hypothesis is Accepted\n"
     ]
    }
   ],
   "source": [
    "if (results[0]>t_crit) and (results[1]<0.05):\n",
    "    print (\"Null hypothesis rejected. Results are statistically significant with t-value =\", \n",
    "           round(results[0], 2), \"and p-value =\", np.round((results[1]), 4))\n",
    "else:\n",
    "    print (\"Null hypothesis is Accepted\")"
   ]
  },
  {
   "cell_type": "markdown",
   "metadata": {},
   "source": [
    "_**Conclusion:**_ _We fail to reject our Null Hypothesis and conclude there is no significant difference between average mean values of our jazz music and metal music review scores._"
   ]
  },
  {
   "cell_type": "markdown",
   "metadata": {},
   "source": [
    "## ANOVA"
   ]
  },
  {
   "cell_type": "code",
   "execution_count": 26,
   "metadata": {},
   "outputs": [],
   "source": [
    "c.execute(\"\"\"SELECT pub_weekday, author_type, content FROM reviews JOIN content USING (reviewid);\"\"\")\n",
    "data = pd.DataFrame(c.fetchall())\n",
    "data.columns = [x[0] for x in c.description]\n",
    "data['pub_weekday'] = data.pub_weekday.apply(lambda x: 'Monday' if x==0 else\n",
    "                                     ('Tuesday' if x==1 else\n",
    "                                     ('Wednesday' if x==2 else\n",
    "                                     ('Thursday' if x==3 else \n",
    "                                     ('Friday' if x==4 else\n",
    "                                     ('Saturday' if x==5 else \"Sunday\"))))))\n",
    "data['content_len'] = data.content.apply(lambda x: len(x))\n",
    "\n",
    "data['author_type'] = data.author_type.apply(lambda x: 'Pitchfork editor' if x=='senior editor' \n",
    "                                             else('Pitchfork editor' if x=='executive editor'\n",
    "                                             else('Pitchfork editor' if x=='senior staff writer'\n",
    "                                             else('Pitchfork editor' if x=='contributing editor'\n",
    "                                             else('Pitchfork editor' if x=='associate staff write'\n",
    "                                             else('Pitchfork editor' if x=='deputy news editor'\n",
    "                                             else('Pitchfork editor' if x=='editor-in-chief'\n",
    "                                             else('Pitchfork editor' if x=='tracks coordinator'\n",
    "                                             else('Pitchfork editor' if x=='associate reviews editor'\n",
    "                                             else('Pitchfork editor' if x=='associate editor'\n",
    "                                             else('Pitchfork editor' if x=='assistant editor'\n",
    "                                             else('Pitchfork editor' if x=='managing editor'\n",
    "                                             else('Contributor' if x=='contributor'\n",
    "                                             else None)))))))))))))"
   ]
  },
  {
   "cell_type": "code",
   "execution_count": 27,
   "metadata": {},
   "outputs": [
    {
     "data": {
      "text/html": [
       "<div>\n",
       "<style scoped>\n",
       "    .dataframe tbody tr th:only-of-type {\n",
       "        vertical-align: middle;\n",
       "    }\n",
       "\n",
       "    .dataframe tbody tr th {\n",
       "        vertical-align: top;\n",
       "    }\n",
       "\n",
       "    .dataframe thead th {\n",
       "        text-align: right;\n",
       "    }\n",
       "</style>\n",
       "<table border=\"1\" class=\"dataframe\">\n",
       "  <thead>\n",
       "    <tr style=\"text-align: right;\">\n",
       "      <th></th>\n",
       "      <th>pub_weekday</th>\n",
       "      <th>author_type</th>\n",
       "      <th>content</th>\n",
       "      <th>content_len</th>\n",
       "    </tr>\n",
       "  </thead>\n",
       "  <tbody>\n",
       "    <tr>\n",
       "      <th>0</th>\n",
       "      <td>Sunday</td>\n",
       "      <td>Contributor</td>\n",
       "      <td>“Trip-hop” eventually became a ’90s punchline,...</td>\n",
       "      <td>9310</td>\n",
       "    </tr>\n",
       "    <tr>\n",
       "      <th>1</th>\n",
       "      <td>Saturday</td>\n",
       "      <td>Contributor</td>\n",
       "      <td>Eight years, five albums, and two EPs in, the ...</td>\n",
       "      <td>2797</td>\n",
       "    </tr>\n",
       "    <tr>\n",
       "      <th>2</th>\n",
       "      <td>Saturday</td>\n",
       "      <td>Contributor</td>\n",
       "      <td>Minneapolis’ Uranium Club seem to revel in bei...</td>\n",
       "      <td>3565</td>\n",
       "    </tr>\n",
       "    <tr>\n",
       "      <th>3</th>\n",
       "      <td>Friday</td>\n",
       "      <td>Pitchfork editor</td>\n",
       "      <td>Kleenex began with a crash. It transpired one ...</td>\n",
       "      <td>7717</td>\n",
       "    </tr>\n",
       "    <tr>\n",
       "      <th>4</th>\n",
       "      <td>Friday</td>\n",
       "      <td>Pitchfork editor</td>\n",
       "      <td>It is impossible to consider a given release b...</td>\n",
       "      <td>3210</td>\n",
       "    </tr>\n",
       "  </tbody>\n",
       "</table>\n",
       "</div>"
      ],
      "text/plain": [
       "  pub_weekday       author_type  \\\n",
       "0      Sunday       Contributor   \n",
       "1    Saturday       Contributor   \n",
       "2    Saturday       Contributor   \n",
       "3      Friday  Pitchfork editor   \n",
       "4      Friday  Pitchfork editor   \n",
       "\n",
       "                                             content  content_len  \n",
       "0  “Trip-hop” eventually became a ’90s punchline,...         9310  \n",
       "1  Eight years, five albums, and two EPs in, the ...         2797  \n",
       "2  Minneapolis’ Uranium Club seem to revel in bei...         3565  \n",
       "3  Kleenex began with a crash. It transpired one ...         7717  \n",
       "4  It is impossible to consider a given release b...         3210  "
      ]
     },
     "execution_count": 27,
     "metadata": {},
     "output_type": "execute_result"
    }
   ],
   "source": [
    "data.head()"
   ]
  },
  {
   "cell_type": "code",
   "execution_count": 23,
   "metadata": {},
   "outputs": [
    {
     "data": {
      "image/png": "[encoded data removed]",
      "text/plain": [
       "<Figure size 432x288 with 1 Axes>"
      ]
     },
     "metadata": {},
     "output_type": "display_data"
    }
   ],
   "source": [
    "labels = list(data.pub_weekday.unique())\n",
    "sizes = list(data.pub_weekday.value_counts())\n",
    "explode = (0.1,0.1,0.1,0.1,0.1,0.1,0.1)  \n",
    "\n",
    "fig1, ax1 = plt.subplots()\n",
    "ax1.pie(sizes, explode=explode, labels=labels, rotatelabels= True, autopct='%1.1f%%',\n",
    "        pctdistance=0.8, shadow=True, startangle=90)\n",
    "ax1.axis('equal') \n",
    "plt.title('Review Publication Frequency by Day')\n",
    "plt.tight_layout()\n",
    "plt.show()"
   ]
  },
  {
   "cell_type": "markdown",
   "metadata": {},
   "source": [
    "### 1. ONE-FACTOR ANOVA TEST"
   ]
  },
  {
   "cell_type": "markdown",
   "metadata": {},
   "source": [
    "**Question: _Is there a significant effect of publication day on content lenght?_**\n",
    "\n",
    "**Null Hypothesis(Ho):** There is no significant difference in average content lenght depending on which day it is published.\n",
    "\n",
    "**Alternative Hypothesis(Ha):** There is a significant difference in average content lenght depending on which day it is published. "
   ]
  },
  {
   "cell_type": "code",
   "execution_count": 22,
   "metadata": {
    "scrolled": false
   },
   "outputs": [
    {
     "data": {
      "image/png": "[encoded data removed]",
      "text/plain": [
       "<Figure size 720x360 with 1 Axes>"
      ]
     },
     "metadata": {
      "needs_background": "light"
     },
     "output_type": "display_data"
    }
   ],
   "source": [
    "x = data.pub_weekday\n",
    "y = data.content_len\n",
    "plt.figure(figsize=(10,5))\n",
    "sns.boxplot(x = x, y = y);\n",
    "plt.xlabel('Publication Day')\n",
    "plt.ylabel('Content Lenght')\n",
    "plt.title('Boxplot visualization Grouped by Publication Day');"
   ]
  },
  {
   "cell_type": "markdown",
   "metadata": {},
   "source": [
    "#### Ordinary Least Squares (OLS) Analysis:\n",
    "\n",
    "In order to generate the ANOVA table, first we need to fit a linear model and then generate the table from this object. Our formula will be written as:"
   ]
  },
  {
   "cell_type": "code",
   "execution_count": 46,
   "metadata": {
    "scrolled": true
   },
   "outputs": [
    {
     "data": {
      "text/html": [
       "<table class=\"simpletable\">\n",
       "<caption>OLS Regression Results</caption>\n",
       "<tr>\n",
       "  <th>Dep. Variable:</th>       <td>content_len</td>   <th>  R-squared:         </th>  <td>   0.004</td>  \n",
       "</tr>\n",
       "<tr>\n",
       "  <th>Model:</th>                   <td>OLS</td>       <th>  Adj. R-squared:    </th>  <td>   0.003</td>  \n",
       "</tr>\n",
       "<tr>\n",
       "  <th>Method:</th>             <td>Least Squares</td>  <th>  F-statistic:       </th>  <td>   11.66</td>  \n",
       "</tr>\n",
       "<tr>\n",
       "  <th>Date:</th>             <td>Mon, 10 Jun 2019</td> <th>  Prob (F-statistic):</th>  <td>4.36e-13</td>  \n",
       "</tr>\n",
       "<tr>\n",
       "  <th>Time:</th>                 <td>21:49:44</td>     <th>  Log-Likelihood:    </th> <td>-1.5979e+05</td>\n",
       "</tr>\n",
       "<tr>\n",
       "  <th>No. Observations:</th>      <td> 18401</td>      <th>  AIC:               </th>  <td>3.196e+05</td> \n",
       "</tr>\n",
       "<tr>\n",
       "  <th>Df Residuals:</th>          <td> 18394</td>      <th>  BIC:               </th>  <td>3.196e+05</td> \n",
       "</tr>\n",
       "<tr>\n",
       "  <th>Df Model:</th>              <td>     6</td>      <th>                     </th>      <td> </td>     \n",
       "</tr>\n",
       "<tr>\n",
       "  <th>Covariance Type:</th>      <td>nonrobust</td>    <th>                     </th>      <td> </td>     \n",
       "</tr>\n",
       "</table>\n",
       "<table class=\"simpletable\">\n",
       "<tr>\n",
       "               <td></td>                  <th>coef</th>     <th>std err</th>      <th>t</th>      <th>P>|t|</th>  <th>[0.025</th>    <th>0.975]</th>  \n",
       "</tr>\n",
       "<tr>\n",
       "  <th>Intercept</th>                   <td> 4094.9888</td> <td>   28.543</td> <td>  143.468</td> <td> 0.000</td> <td> 4039.042</td> <td> 4150.936</td>\n",
       "</tr>\n",
       "<tr>\n",
       "  <th>C(pub_weekday)[T.Monday]</th>    <td>  -54.6201</td> <td>   37.349</td> <td>   -1.462</td> <td> 0.144</td> <td> -127.827</td> <td>   18.587</td>\n",
       "</tr>\n",
       "<tr>\n",
       "  <th>C(pub_weekday)[T.Saturday]</th>  <td>  297.7369</td> <td>  111.740</td> <td>    2.665</td> <td> 0.008</td> <td>   78.716</td> <td>  516.758</td>\n",
       "</tr>\n",
       "<tr>\n",
       "  <th>C(pub_weekday)[T.Sunday]</th>    <td>  275.6835</td> <td>   53.319</td> <td>    5.170</td> <td> 0.000</td> <td>  171.173</td> <td>  380.194</td>\n",
       "</tr>\n",
       "<tr>\n",
       "  <th>C(pub_weekday)[T.Thursday]</th>  <td>  -58.3908</td> <td>   37.353</td> <td>   -1.563</td> <td> 0.118</td> <td> -131.607</td> <td>   14.825</td>\n",
       "</tr>\n",
       "<tr>\n",
       "  <th>C(pub_weekday)[T.Tuesday]</th>   <td> -102.0492</td> <td>   36.247</td> <td>   -2.815</td> <td> 0.005</td> <td> -173.096</td> <td>  -31.002</td>\n",
       "</tr>\n",
       "<tr>\n",
       "  <th>C(pub_weekday)[T.Wednesday]</th> <td>  -57.0209</td> <td>   37.214</td> <td>   -1.532</td> <td> 0.125</td> <td> -129.964</td> <td>   15.922</td>\n",
       "</tr>\n",
       "</table>\n",
       "<table class=\"simpletable\">\n",
       "<tr>\n",
       "  <th>Omnibus:</th>       <td>9722.016</td> <th>  Durbin-Watson:     </th>  <td>   1.809</td> \n",
       "</tr>\n",
       "<tr>\n",
       "  <th>Prob(Omnibus):</th>  <td> 0.000</td>  <th>  Jarque-Bera (JB):  </th> <td>120619.006</td>\n",
       "</tr>\n",
       "<tr>\n",
       "  <th>Skew:</th>           <td> 2.266</td>  <th>  Prob(JB):          </th>  <td>    0.00</td> \n",
       "</tr>\n",
       "<tr>\n",
       "  <th>Kurtosis:</th>       <td>14.696</td>  <th>  Cond. No.          </th>  <td>    11.7</td> \n",
       "</tr>\n",
       "</table><br/><br/>Warnings:<br/>[1] Standard Errors assume that the covariance matrix of the errors is correctly specified."
      ],
      "text/plain": [
       "<class 'statsmodels.iolib.summary.Summary'>\n",
       "\"\"\"\n",
       "                            OLS Regression Results                            \n",
       "==============================================================================\n",
       "Dep. Variable:            content_len   R-squared:                       0.004\n",
       "Model:                            OLS   Adj. R-squared:                  0.003\n",
       "Method:                 Least Squares   F-statistic:                     11.66\n",
       "Date:                Mon, 10 Jun 2019   Prob (F-statistic):           4.36e-13\n",
       "Time:                        21:49:44   Log-Likelihood:            -1.5979e+05\n",
       "No. Observations:               18401   AIC:                         3.196e+05\n",
       "Df Residuals:                   18394   BIC:                         3.196e+05\n",
       "Df Model:                           6                                         \n",
       "Covariance Type:            nonrobust                                         \n",
       "===============================================================================================\n",
       "                                  coef    std err          t      P>|t|      [0.025      0.975]\n",
       "-----------------------------------------------------------------------------------------------\n",
       "Intercept                    4094.9888     28.543    143.468      0.000    4039.042    4150.936\n",
       "C(pub_weekday)[T.Monday]      -54.6201     37.349     -1.462      0.144    -127.827      18.587\n",
       "C(pub_weekday)[T.Saturday]    297.7369    111.740      2.665      0.008      78.716     516.758\n",
       "C(pub_weekday)[T.Sunday]      275.6835     53.319      5.170      0.000     171.173     380.194\n",
       "C(pub_weekday)[T.Thursday]    -58.3908     37.353     -1.563      0.118    -131.607      14.825\n",
       "C(pub_weekday)[T.Tuesday]    -102.0492     36.247     -2.815      0.005    -173.096     -31.002\n",
       "C(pub_weekday)[T.Wednesday]   -57.0209     37.214     -1.532      0.125    -129.964      15.922\n",
       "==============================================================================\n",
       "Omnibus:                     9722.016   Durbin-Watson:                   1.809\n",
       "Prob(Omnibus):                  0.000   Jarque-Bera (JB):           120619.006\n",
       "Skew:                           2.266   Prob(JB):                         0.00\n",
       "Kurtosis:                      14.696   Cond. No.                         11.7\n",
       "==============================================================================\n",
       "\n",
       "Warnings:\n",
       "[1] Standard Errors assume that the covariance matrix of the errors is correctly specified.\n",
       "\"\"\""
      ]
     },
     "execution_count": 46,
     "metadata": {},
     "output_type": "execute_result"
    }
   ],
   "source": [
    "anova_pub_weekday = ols('content_len ~ C(pub_weekday)', data=data).fit()\n",
    "anova_pub_weekday.summary()"
   ]
  },
  {
   "cell_type": "markdown",
   "metadata": {},
   "source": [
    "#### Generating ANOVA Table:"
   ]
  },
  {
   "cell_type": "code",
   "execution_count": 48,
   "metadata": {
    "scrolled": true
   },
   "outputs": [
    {
     "name": "stdout",
     "output_type": "stream",
     "text": [
      "                     df        sum_sq       mean_sq          F        PR(>F)\n",
      "C(pub_weekday)      6.0  1.429448e+08  2.382414e+07  11.664514  4.364468e-13\n",
      "Residual        18394.0  3.756875e+10  2.042446e+06        NaN           NaN\n"
     ]
    }
   ],
   "source": [
    "anova_table = sm.stats.anova_lm(anova_pub_weekday, type = 2)\n",
    "print(anova_table)"
   ]
  },
  {
   "cell_type": "code",
   "execution_count": 52,
   "metadata": {},
   "outputs": [
    {
     "data": {
      "text/html": [
       "<div>\n",
       "<style scoped>\n",
       "    .dataframe tbody tr th:only-of-type {\n",
       "        vertical-align: middle;\n",
       "    }\n",
       "\n",
       "    .dataframe tbody tr th {\n",
       "        vertical-align: top;\n",
       "    }\n",
       "\n",
       "    .dataframe thead th {\n",
       "        text-align: right;\n",
       "    }\n",
       "</style>\n",
       "<table border=\"1\" class=\"dataframe\">\n",
       "  <thead>\n",
       "    <tr style=\"text-align: right;\">\n",
       "      <th></th>\n",
       "      <th>Degrees of Freedom</th>\n",
       "      <th>Sum of Squares</th>\n",
       "      <th>Mean Squares</th>\n",
       "      <th>F-Test</th>\n",
       "      <th>P-Value</th>\n",
       "    </tr>\n",
       "  </thead>\n",
       "  <tbody>\n",
       "    <tr>\n",
       "      <th>C(pub_weekday)</th>\n",
       "      <td>6.0</td>\n",
       "      <td>1.429448e+08</td>\n",
       "      <td>23824140.0</td>\n",
       "      <td>11.6645</td>\n",
       "      <td>4.364468e-13</td>\n",
       "    </tr>\n",
       "    <tr>\n",
       "      <th>Residual</th>\n",
       "      <td>118394.0</td>\n",
       "      <td>3.756875e+10</td>\n",
       "      <td>2042446.0</td>\n",
       "      <td>NaNNaN</td>\n",
       "      <td>NaN</td>\n",
       "    </tr>\n",
       "  </tbody>\n",
       "</table>\n",
       "</div>"
      ],
      "text/plain": [
       "                Degrees of Freedom  Sum of Squares  Mean Squares   F-Test  \\\n",
       "C(pub_weekday)                 6.0    1.429448e+08    23824140.0  11.6645   \n",
       "Residual                  118394.0    3.756875e+10     2042446.0   NaNNaN   \n",
       "\n",
       "                     P-Value  \n",
       "C(pub_weekday)  4.364468e-13  \n",
       "Residual                 NaN  "
      ]
     },
     "execution_count": 52,
     "metadata": {},
     "output_type": "execute_result"
    }
   ],
   "source": [
    "df = [[6.0,  1.429448e+08,  2.382414e+07,  11.664514,  4.364468e-13],\n",
    "     [118394.0,  3.756875e+10,  2.042446e+06,        'NaN'          'NaN']]\n",
    "# Create the pandas DataFrame \n",
    "df = pd.DataFrame(df, index = ['C(pub_weekday)', 'Residual '], columns = ['Degrees of Freedom','Sum of Squares', 'Mean Squares','F-Test', 'P-Value']) \n",
    "  \n",
    "# print dataframe. \n",
    "df "
   ]
  },
  {
   "cell_type": "markdown",
   "metadata": {},
   "source": [
    "_**Conclusion:**_ _We reject Null Hypothesis if p-value <= alpha =0.05 and F-Test > PR. Given data set, we reject our Null Hypothesis."
   ]
  },
  {
   "cell_type": "markdown",
   "metadata": {},
   "source": [
    "### 2. MULTI-FACTOR ANOVA TESTING"
   ]
  },
  {
   "cell_type": "markdown",
   "metadata": {},
   "source": [
    "**Question: _Is there a significant effect of publication day and author type on content lenght?_**\n",
    "\n",
    "**Null Hypothesis(Ho):** There is no significant difference in average content lenght depending on which day it is published and by whom.\n",
    "\n",
    "**Alternative Hypothesis(Ha):** There is a significant difference in average content lenght depending on which day it is published and whom. "
   ]
  },
  {
   "cell_type": "markdown",
   "metadata": {},
   "source": [
    "#### Ordinary Least Squares (OLS) Analysis:"
   ]
  },
  {
   "cell_type": "code",
   "execution_count": 49,
   "metadata": {
    "collapsed": true
   },
   "outputs": [
    {
     "data": {
      "text/html": [
       "<table class=\"simpletable\">\n",
       "<caption>OLS Regression Results</caption>\n",
       "<tr>\n",
       "  <th>Dep. Variable:</th>       <td>content_len</td>   <th>  R-squared:         </th>  <td>   0.006</td>  \n",
       "</tr>\n",
       "<tr>\n",
       "  <th>Model:</th>                   <td>OLS</td>       <th>  Adj. R-squared:    </th>  <td>   0.005</td>  \n",
       "</tr>\n",
       "<tr>\n",
       "  <th>Method:</th>             <td>Least Squares</td>  <th>  F-statistic:       </th>  <td>   11.91</td>  \n",
       "</tr>\n",
       "<tr>\n",
       "  <th>Date:</th>             <td>Tue, 11 Jun 2019</td> <th>  Prob (F-statistic):</th>  <td>3.13e-15</td>  \n",
       "</tr>\n",
       "<tr>\n",
       "  <th>Time:</th>                 <td>00:45:48</td>     <th>  Log-Likelihood:    </th> <td>-1.2522e+05</td>\n",
       "</tr>\n",
       "<tr>\n",
       "  <th>No. Observations:</th>      <td> 14370</td>      <th>  AIC:               </th>  <td>2.505e+05</td> \n",
       "</tr>\n",
       "<tr>\n",
       "  <th>Df Residuals:</th>          <td> 14362</td>      <th>  BIC:               </th>  <td>2.505e+05</td> \n",
       "</tr>\n",
       "<tr>\n",
       "  <th>Df Model:</th>              <td>     7</td>      <th>                     </th>      <td> </td>     \n",
       "</tr>\n",
       "<tr>\n",
       "  <th>Covariance Type:</th>      <td>nonrobust</td>    <th>                     </th>      <td> </td>     \n",
       "</tr>\n",
       "</table>\n",
       "<table class=\"simpletable\">\n",
       "<tr>\n",
       "                   <td></td>                     <th>coef</th>     <th>std err</th>      <th>t</th>      <th>P>|t|</th>  <th>[0.025</th>    <th>0.975]</th>  \n",
       "</tr>\n",
       "<tr>\n",
       "  <th>Intercept</th>                          <td> 4160.0265</td> <td>   32.097</td> <td>  129.610</td> <td> 0.000</td> <td> 4097.113</td> <td> 4222.940</td>\n",
       "</tr>\n",
       "<tr>\n",
       "  <th>C(pub_weekday)[T.Monday]</th>           <td>  -54.9782</td> <td>   42.195</td> <td>   -1.303</td> <td> 0.193</td> <td> -137.687</td> <td>   27.730</td>\n",
       "</tr>\n",
       "<tr>\n",
       "  <th>C(pub_weekday)[T.Saturday]</th>         <td>  237.3121</td> <td>  126.852</td> <td>    1.871</td> <td> 0.061</td> <td>  -11.333</td> <td>  485.958</td>\n",
       "</tr>\n",
       "<tr>\n",
       "  <th>C(pub_weekday)[T.Sunday]</th>           <td>  366.7780</td> <td>   66.267</td> <td>    5.535</td> <td> 0.000</td> <td>  236.886</td> <td>  496.670</td>\n",
       "</tr>\n",
       "<tr>\n",
       "  <th>C(pub_weekday)[T.Thursday]</th>         <td>  -82.3520</td> <td>   42.240</td> <td>   -1.950</td> <td> 0.051</td> <td> -165.148</td> <td>    0.444</td>\n",
       "</tr>\n",
       "<tr>\n",
       "  <th>C(pub_weekday)[T.Tuesday]</th>          <td>  -98.5930</td> <td>   41.477</td> <td>   -2.377</td> <td> 0.017</td> <td> -179.893</td> <td>  -17.293</td>\n",
       "</tr>\n",
       "<tr>\n",
       "  <th>C(pub_weekday)[T.Wednesday]</th>        <td>  -53.5456</td> <td>   42.055</td> <td>   -1.273</td> <td> 0.203</td> <td> -135.978</td> <td>   28.887</td>\n",
       "</tr>\n",
       "<tr>\n",
       "  <th>C(author_type)[T.Pitchfork editor]</th> <td>  165.4371</td> <td>   35.960</td> <td>    4.601</td> <td> 0.000</td> <td>   94.950</td> <td>  235.924</td>\n",
       "</tr>\n",
       "</table>\n",
       "<table class=\"simpletable\">\n",
       "<tr>\n",
       "  <th>Omnibus:</th>       <td>7582.343</td> <th>  Durbin-Watson:     </th> <td>   1.858</td> \n",
       "</tr>\n",
       "<tr>\n",
       "  <th>Prob(Omnibus):</th>  <td> 0.000</td>  <th>  Jarque-Bera (JB):  </th> <td>90331.936</td>\n",
       "</tr>\n",
       "<tr>\n",
       "  <th>Skew:</th>           <td> 2.275</td>  <th>  Prob(JB):          </th> <td>    0.00</td> \n",
       "</tr>\n",
       "<tr>\n",
       "  <th>Kurtosis:</th>       <td>14.409</td>  <th>  Cond. No.          </th> <td>    11.5</td> \n",
       "</tr>\n",
       "</table><br/><br/>Warnings:<br/>[1] Standard Errors assume that the covariance matrix of the errors is correctly specified."
      ],
      "text/plain": [
       "<class 'statsmodels.iolib.summary.Summary'>\n",
       "\"\"\"\n",
       "                            OLS Regression Results                            \n",
       "==============================================================================\n",
       "Dep. Variable:            content_len   R-squared:                       0.006\n",
       "Model:                            OLS   Adj. R-squared:                  0.005\n",
       "Method:                 Least Squares   F-statistic:                     11.91\n",
       "Date:                Tue, 11 Jun 2019   Prob (F-statistic):           3.13e-15\n",
       "Time:                        00:45:48   Log-Likelihood:            -1.2522e+05\n",
       "No. Observations:               14370   AIC:                         2.505e+05\n",
       "Df Residuals:                   14362   BIC:                         2.505e+05\n",
       "Df Model:                           7                                         \n",
       "Covariance Type:            nonrobust                                         \n",
       "======================================================================================================\n",
       "                                         coef    std err          t      P>|t|      [0.025      0.975]\n",
       "------------------------------------------------------------------------------------------------------\n",
       "Intercept                           4160.0265     32.097    129.610      0.000    4097.113    4222.940\n",
       "C(pub_weekday)[T.Monday]             -54.9782     42.195     -1.303      0.193    -137.687      27.730\n",
       "C(pub_weekday)[T.Saturday]           237.3121    126.852      1.871      0.061     -11.333     485.958\n",
       "C(pub_weekday)[T.Sunday]             366.7780     66.267      5.535      0.000     236.886     496.670\n",
       "C(pub_weekday)[T.Thursday]           -82.3520     42.240     -1.950      0.051    -165.148       0.444\n",
       "C(pub_weekday)[T.Tuesday]            -98.5930     41.477     -2.377      0.017    -179.893     -17.293\n",
       "C(pub_weekday)[T.Wednesday]          -53.5456     42.055     -1.273      0.203    -135.978      28.887\n",
       "C(author_type)[T.Pitchfork editor]   165.4371     35.960      4.601      0.000      94.950     235.924\n",
       "==============================================================================\n",
       "Omnibus:                     7582.343   Durbin-Watson:                   1.858\n",
       "Prob(Omnibus):                  0.000   Jarque-Bera (JB):            90331.936\n",
       "Skew:                           2.275   Prob(JB):                         0.00\n",
       "Kurtosis:                      14.409   Cond. No.                         11.5\n",
       "==============================================================================\n",
       "\n",
       "Warnings:\n",
       "[1] Standard Errors assume that the covariance matrix of the errors is correctly specified.\n",
       "\"\"\""
      ]
     },
     "execution_count": 49,
     "metadata": {},
     "output_type": "execute_result"
    }
   ],
   "source": [
    "anova_day_author = ols('content_len ~ C(pub_weekday) + C(author_type)', data=data).fit()\n",
    "anova_day_author.summary()"
   ]
  },
  {
   "cell_type": "markdown",
   "metadata": {},
   "source": [
    "#### Generating ANOVA Table:"
   ]
  },
  {
   "cell_type": "code",
   "execution_count": 50,
   "metadata": {},
   "outputs": [
    {
     "name": "stdout",
     "output_type": "stream",
     "text": [
      "                     df        sum_sq       mean_sq          F        PR(>F)\n",
      "C(pub_weekday)      6.0  1.351413e+08  2.252355e+07  10.369126  1.692149e-11\n",
      "C(author_type)      1.0  4.597388e+07  4.597388e+07  21.164915  4.250118e-06\n",
      "Residual        14362.0  3.119676e+10  2.172174e+06        NaN           NaN\n"
     ]
    }
   ],
   "source": [
    "anova_table = sm.stats.anova_lm(anova_day_author, type = 2)\n",
    "print(anova_table)"
   ]
  },
  {
   "cell_type": "markdown",
   "metadata": {},
   "source": [
    "_**Conclusion:**_ _We reject Null Hypothesis if p-value <= alpha =0.05 and F-Test > PR. Given data set, we reject our Null Hypothesis."
   ]
  },
  {
   "cell_type": "code",
   "execution_count": 51,
   "metadata": {},
   "outputs": [
    {
     "data": {
      "text/html": [
       "<div>\n",
       "<style scoped>\n",
       "    .dataframe tbody tr th:only-of-type {\n",
       "        vertical-align: middle;\n",
       "    }\n",
       "\n",
       "    .dataframe tbody tr th {\n",
       "        vertical-align: top;\n",
       "    }\n",
       "\n",
       "    .dataframe thead th {\n",
       "        text-align: right;\n",
       "    }\n",
       "</style>\n",
       "<table border=\"1\" class=\"dataframe\">\n",
       "  <thead>\n",
       "    <tr style=\"text-align: right;\">\n",
       "      <th></th>\n",
       "      <th>Degrees of Freedom</th>\n",
       "      <th>Sum of Squares</th>\n",
       "      <th>Mean Squares</th>\n",
       "      <th>F-Test</th>\n",
       "      <th>P-Value</th>\n",
       "    </tr>\n",
       "  </thead>\n",
       "  <tbody>\n",
       "    <tr>\n",
       "      <th>C(author_type)</th>\n",
       "      <td>6.0</td>\n",
       "      <td>1.351413e+08</td>\n",
       "      <td>22523550.0</td>\n",
       "      <td>10.3691</td>\n",
       "      <td>1.692149e-11</td>\n",
       "    </tr>\n",
       "    <tr>\n",
       "      <th>C(pub_weekday)</th>\n",
       "      <td>1.0</td>\n",
       "      <td>4.597388e+07</td>\n",
       "      <td>45973880.0</td>\n",
       "      <td>21.1649</td>\n",
       "      <td>4.250118e-06</td>\n",
       "    </tr>\n",
       "    <tr>\n",
       "      <th>Residual</th>\n",
       "      <td>14362.0</td>\n",
       "      <td>3.119676e+10</td>\n",
       "      <td>2172174.0</td>\n",
       "      <td>NaNNaN</td>\n",
       "      <td>NaN</td>\n",
       "    </tr>\n",
       "  </tbody>\n",
       "</table>\n",
       "</div>"
      ],
      "text/plain": [
       "                Degrees of Freedom  Sum of Squares  Mean Squares   F-Test  \\\n",
       "C(author_type)                 6.0    1.351413e+08    22523550.0  10.3691   \n",
       "C(pub_weekday)                 1.0    4.597388e+07    45973880.0  21.1649   \n",
       "Residual                   14362.0    3.119676e+10     2172174.0   NaNNaN   \n",
       "\n",
       "                     P-Value  \n",
       "C(author_type)  1.692149e-11  \n",
       "C(pub_weekday)  4.250118e-06  \n",
       "Residual                 NaN  "
      ]
     },
     "execution_count": 51,
     "metadata": {},
     "output_type": "execute_result"
    }
   ],
   "source": [
    "df = [[6.0,  1.351413e+08,  2.252355e+07,  10.369126,  1.692149e-11],\n",
    "     [1.0,  4.597388e+07,  4.597388e+07,  21.164915,  4.250118e-06],\n",
    "     [14362.0,  3.119676e+10,  2.172174e+06,        'NaN'          'NaN']]\n",
    "# Create the pandas DataFrame \n",
    "df = pd.DataFrame(df, index = ['C(author_type)', 'C(pub_weekday)', 'Residual '], columns = ['Degrees of Freedom','Sum of Squares', 'Mean Squares','F-Test', 'P-Value']) \n",
    "  \n",
    "# print dataframe. \n",
    "df "
   ]
  },
  {
   "cell_type": "code",
   "execution_count": null,
   "metadata": {},
   "outputs": [],
   "source": []
  }
 ],
 "metadata": {
  "kernelspec": {
   "display_name": "Python 3",
   "language": "python",
   "name": "python3"
  },
  "language_info": {
   "codemirror_mode": {
    "name": "ipython",
    "version": 3
   },
   "file_extension": ".py",
   "mimetype": "text/x-python",
   "name": "python",
   "nbconvert_exporter": "python",
   "pygments_lexer": "ipython3",
   "version": "3.7.3"
  }
 },
 "nbformat": 4,
 "nbformat_minor": 2
}
